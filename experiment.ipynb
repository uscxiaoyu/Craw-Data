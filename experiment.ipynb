{
 "cells": [
  {
   "cell_type": "code",
   "execution_count": 1,
   "metadata": {
    "collapsed": true
   },
   "outputs": [],
   "source": [
    "from urllib import request, parse\n",
    "from bs4 import BeautifulSoup\n",
    "import datetime\n",
    "import ssl\n",
    "import re\n",
    "context = ssl._create_unverified_context()"
   ]
  },
  {
   "cell_type": "code",
   "execution_count": 5,
   "metadata": {},
   "outputs": [],
   "source": [
    "User_Agent = 'Mozilla/5.0 (X11; Ubuntu; Linux x86_64; rv:59.0) Gecko/20100101 Firefox/59.0'\n",
    "\n",
    "url_1 = 'http://www.xicidaili.com/nn/'\n",
    "req_1 = request.Request(url_1)\n",
    "req_1.add_header('User-Agent', User_Agent)\n",
    "f = request.urlopen(req_1, context=context)"
   ]
  },
  {
   "cell_type": "code",
   "execution_count": 8,
   "metadata": {},
   "outputs": [
    {
     "name": "stdout",
     "output_type": "stream",
     "text": [
      "b''\n"
     ]
    }
   ],
   "source": [
    "print(f.read())"
   ]
  },
  {
   "cell_type": "code",
   "execution_count": 6,
   "metadata": {},
   "outputs": [
    {
     "data": {
      "text/plain": [
       "<urllib.request.ProxyHandler at 0x7fe7d80f7cc0>"
      ]
     },
     "execution_count": 6,
     "metadata": {},
     "output_type": "execute_result"
    }
   ],
   "source": [
    "proxy = {'https':'http://14.118.254.145:6666'}\n",
    "request.ProxyHandler(proxies=None)"
   ]
  },
  {
   "cell_type": "code",
   "execution_count": 13,
   "metadata": {},
   "outputs": [
    {
     "name": "stdout",
     "output_type": "stream",
     "text": [
      "zc-green-ing\n"
     ]
    }
   ],
   "source": [
    "User_Agent = 'Mozilla/5.0 (X11; Ubuntu; Linux x86_64; rv:59.0) Gecko/20100101 Firefox/59.0'\n",
    "Host = 'z.jd.com'\n",
    "p_id = '101114'\n",
    "count_inqury = 85  # 访问次数\n",
    "p_d = re.compile('\\d+')\n",
    "craw_time = datetime.datetime.now()\n",
    "category = False\n",
    "\n",
    "url_1 = 'http://z.jd.com/project/details/%s.html' % p_id\n",
    "req_1 = request.Request(url_1)\n",
    "req_1.add_header('User-Agent', User_Agent)\n",
    "req_1.add_header('Host', Host)\n",
    "f_1 = request.urlopen(req_1, context=context)\n",
    "isDirected = (p_id in f_1.geturl())  # 如果p_id不在实际url中，则说明发生了重定向，项目失败\n",
    "if isDirected:\n",
    "    rawhtml = f_1.read().decode('utf-8')\n",
    "    h_soup = BeautifulSoup(rawhtml, 'html.parser')\n",
    "    cat_div = h_soup.find('div', {'class': 'project-img'})\n",
    "    l_cat = cat_div.i['class'][0]\n",
    "    \n",
    "print(l_cat)"
   ]
  },
  {
   "cell_type": "code",
   "execution_count": 10,
   "metadata": {},
   "outputs": [
    {
     "data": {
      "text/plain": [
       "'zc-green-ing'"
      ]
     },
     "execution_count": 10,
     "metadata": {},
     "output_type": "execute_result"
    }
   ],
   "source": [
    "l_cat"
   ]
  },
  {
   "cell_type": "code",
   "execution_count": null,
   "metadata": {},
   "outputs": [],
   "source": []
  }
 ],
 "metadata": {
  "kernelspec": {
   "display_name": "Python 2",
   "language": "python",
   "name": "python2"
  },
  "language_info": {
   "codemirror_mode": {
    "name": "ipython",
    "version": 2
   },
   "file_extension": ".py",
   "mimetype": "text/x-python",
   "name": "python",
   "nbconvert_exporter": "python",
   "pygments_lexer": "ipython2",
   "version": "2.7.6"
  }
 },
 "nbformat": 4,
 "nbformat_minor": 0
}
